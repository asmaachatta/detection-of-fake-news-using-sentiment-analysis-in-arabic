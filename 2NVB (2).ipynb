{
 "cells": [
  {
   "cell_type": "code",
   "execution_count": 3,
   "id": "72645714-8dbb-44fd-a4b1-7119abb57609",
   "metadata": {},
   "outputs": [
    {
     "name": "stdout",
     "output_type": "stream",
     "text": [
      "Confusion Matrix:\n",
      "[[403 197]\n",
      " [101 534]]\n",
      "\n",
      "Classification Report:\n",
      "              precision    recall  f1-score   support\n",
      "\n",
      "           0       0.80      0.67      0.73       600\n",
      "           1       0.73      0.84      0.78       635\n",
      "\n",
      "    accuracy                           0.76      1235\n",
      "   macro avg       0.77      0.76      0.76      1235\n",
      "weighted avg       0.76      0.76      0.76      1235\n",
      "\n",
      "Accuracy: 0.7587044534412956\n"
     ]
    }
   ],
   "source": [
    "import pandas as pd\n",
    "from sklearn.model_selection import train_test_split\n",
    "from sklearn.feature_extraction.text import TfidfVectorizer\n",
    "from sklearn.naive_bayes import MultinomialNB\n",
    "from sklearn.metrics import classification_report, confusion_matrix\n",
    "from sklearn import metrics\n",
    "# Load the data\n",
    "data = pd.read_csv('dt.csv')  # Update 'your_data.csv' with your CSV file name\n",
    "# Assuming your CSV file has columns named 'articles', 'sentiment', 'ratio', and 'label'\n",
    "\n",
    "# Drop rows with missing values\n",
    "data = data.dropna(subset=['articles', 'Sentiment', 'Ratio', 'label'])\n",
    "\n",
    "# Convert numerical values to strings\n",
    "data['Sentiment'] = data['Sentiment'].astype(str)\n",
    "data['Ratio'] = data['Ratio'].astype(str)\n",
    "\n",
    "# Concatenate 'articles', 'sentiment', and 'ratio' columns\n",
    "X = data['articles'] + ' ' + data['Sentiment'] + ' ' + data['Ratio']\n",
    "y = data['label']  # Target variable\n",
    "\n",
    "# Split the data into training and testing sets\n",
    "X_train, X_test, y_train, y_test = train_test_split(X, y, test_size=0.2, random_state=42)\n",
    "\n",
    "# TF-IDF vectorization\n",
    "tfidf_vectorizer = TfidfVectorizer()\n",
    "X_train_tfidf = tfidf_vectorizer.fit_transform(X_train)\n",
    "X_test_tfidf = tfidf_vectorizer.transform(X_test)\n",
    "\n",
    "# Train Naive Bayes model\n",
    "nb_model = MultinomialNB()\n",
    "nb_model.fit(X_train_tfidf, y_train)\n",
    "\n",
    "# Predictions\n",
    "y_pred = nb_model.predict(X_test_tfidf)\n",
    "\n",
    "# Evaluation\n",
    "print(\"Confusion Matrix:\")\n",
    "print(confusion_matrix(y_test, y_pred))\n",
    "print(\"\\nClassification Report:\")\n",
    "print(classification_report(y_test, y_pred))\n",
    "print(\"Accuracy:\", metrics.accuracy_score(y_test, y_pred))"
   ]
  },
  {
   "cell_type": "code",
   "execution_count": null,
   "id": "568aef35-4691-4970-ba2f-4aec50607530",
   "metadata": {},
   "outputs": [],
   "source": []
  }
 ],
 "metadata": {
  "kernelspec": {
   "display_name": "Python 3 (ipykernel)",
   "language": "python",
   "name": "python3"
  },
  "language_info": {
   "codemirror_mode": {
    "name": "ipython",
    "version": 3
   },
   "file_extension": ".py",
   "mimetype": "text/x-python",
   "name": "python",
   "nbconvert_exporter": "python",
   "pygments_lexer": "ipython3",
   "version": "3.12.0"
  }
 },
 "nbformat": 4,
 "nbformat_minor": 5
}
