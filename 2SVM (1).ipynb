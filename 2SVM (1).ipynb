{
 "cells": [
  {
   "cell_type": "code",
   "execution_count": 2,
   "id": "0c483581-ace2-472c-857d-cecf373b0e28",
   "metadata": {},
   "outputs": [
    {
     "name": "stdout",
     "output_type": "stream",
     "text": [
      "Confusion Matrix:\n",
      "[[494 106]\n",
      " [ 86 549]]\n",
      "\n",
      "Classification Report:\n",
      "              precision    recall  f1-score   support\n",
      "\n",
      "           0       0.85      0.82      0.84       600\n",
      "           1       0.84      0.86      0.85       635\n",
      "\n",
      "    accuracy                           0.84      1235\n",
      "   macro avg       0.84      0.84      0.84      1235\n",
      "weighted avg       0.84      0.84      0.84      1235\n",
      "\n"
     ]
    }
   ],
   "source": [
    "import pandas as pd\n",
    "from sklearn.model_selection import train_test_split\n",
    "from sklearn.feature_extraction.text import TfidfVectorizer\n",
    "from sklearn.svm import SVC\n",
    "from sklearn.metrics import classification_report, confusion_matrix\n",
    "# Load the data\n",
    "data = pd.read_csv('dt.csv')  \n",
    "# Drop rows with missing values\n",
    "data = data.dropna(subset=['articles', 'Sentiment', 'Ratio', 'label'])\n",
    "data['Ratio'] = data['Ratio'].astype(str)\n",
    "X = data['articles'] + ' ' + data['Sentiment'] + ' ' + data['Ratio']\n",
    "y = data['label']  # Target variable\n",
    "# Split the data into training and testing sets\n",
    "X_train, X_test, y_train, y_test = train_test_split(X, y, test_size=0.2, random_state=42)\n",
    "# TF-IDF vectorization\n",
    "tfidf_vectorizer = TfidfVectorizer()\n",
    "X_train_tfidf = tfidf_vectorizer.fit_transform(X_train)\n",
    "X_test_tfidf = tfidf_vectorizer.transform(X_test)\n",
    "# Train SVM model\n",
    "svm_model = SVC(kernel='linear')  # Linear kernel for SVM\n",
    "svm_model.fit(X_train_tfidf, y_train)\n",
    "# Predictions\n",
    "y_pred = svm_model.predict(X_test_tfidf)\n",
    "\n",
    "# Evaluation\n",
    "print(\"Confusion Matrix:\")\n",
    "print(confusion_matrix(y_test, y_pred))\n",
    "print(\"\\nClassification Report:\")\n",
    "print(classification_report(y_test, y_pred))\n"
   ]
  },
  {
   "cell_type": "code",
   "execution_count": 3,
   "id": "ec45438e-6ec7-4f5e-99c7-6557e3a25c23",
   "metadata": {},
   "outputs": [
    {
     "name": "stdout",
     "output_type": "stream",
     "text": [
      "Classification Report:\n",
      "              precision    recall  f1-score   support\n",
      "\n",
      "        fake       0.85      0.82      0.84       600\n",
      "        real       0.84      0.86      0.85       635\n",
      "\n",
      "    accuracy                           0.84      1235\n",
      "   macro avg       0.84      0.84      0.84      1235\n",
      "weighted avg       0.84      0.84      0.84      1235\n",
      "\n",
      "Accuracy: 84.45%\n",
      "Precision (Fake): 85.17%\n",
      "Precision (Real): 83.82%\n",
      "Recall (Fake): 82.33%\n",
      "Recall (Real): 86.46%\n",
      "F1-Score (Fake): 83.73%\n",
      "F1-Score (Real): 85.12%\n"
     ]
    }
   ],
   "source": [
    "from sklearn.metrics import classification_report, accuracy_score, precision_recall_fscore_support\n",
    "\n",
    "#Printing classification report\n",
    "print(\"Classification Report:\")\n",
    "report = classification_report(y_test, y_pred, target_names=['fake', 'real'])\n",
    "print(report)\n",
    "\n",
    "#Calculating and print accuracy\n",
    "accuracy = accuracy_score(y_test, y_pred)\n",
    "print(\"Accuracy: {:.2f}%\".format(accuracy * 100))\n",
    "\n",
    "#Calculating precision, recall, and F1-score\n",
    "precision, recall, f1_score, _ = precision_recall_fscore_support(y_test, y_pred, average=None)\n",
    "\n",
    "#Printing precision, recall, and F1-score in percentage\n",
    "print(\"Precision (Fake): {:.2f}%\".format(precision[0] * 100))\n",
    "print(\"Precision (Real): {:.2f}%\".format(precision[1] * 100))\n",
    "print(\"Recall (Fake): {:.2f}%\".format(recall[0] * 100))\n",
    "print(\"Recall (Real): {:.2f}%\".format(recall[1] * 100))\n",
    "print(\"F1-Score (Fake): {:.2f}%\".format(f1_score[0] * 100))\n",
    "print(\"F1-Score (Real): {:.2f}%\".format(f1_score[1] * 100))"
   ]
  },
  {
   "cell_type": "code",
   "execution_count": 3,
   "id": "6870384b-a4ab-4418-82c1-91480d7ff80f",
   "metadata": {},
   "outputs": [
    {
     "name": "stdout",
     "output_type": "stream",
     "text": [
      "Précision d'entraînement: 0.9827935222672065\n",
      "Précision de validation: 0.8445344129554656\n"
     ]
    },
    {
     "data": {
      "image/png": "[encoded data removed]",
      "text/plain": [
       "<Figure size 640x480 with 1 Axes>"
      ]
     },
     "metadata": {},
     "output_type": "display_data"
    }
   ],
   "source": [
    "import numpy as np\n",
    "import matplotlib.pyplot as plt\n",
    "\n",
    "# Calculer la précision d'entraînement\n",
    "train_accuracy = svm_model.score(X_train_tfidf, y_train)\n",
    "\n",
    "# Calculer la précision de validation\n",
    "val_accuracy = svm_model.score(X_test_tfidf, y_test)\n",
    "\n",
    "print(\"Précision d'entraînement:\", train_accuracy)\n",
    "print(\"Précision de validation:\", val_accuracy)\n",
    "\n",
    "# Plot de l'entraînement et de la validation de la précision\n",
    "epochs = np.arange(1, 3)  # Nous avons deux époques (entraînement et validation)\n",
    "plt.plot(epochs, [train_accuracy] * len(epochs), label='Train Accuracy')\n",
    "plt.plot(epochs, [val_accuracy] * len(epochs), label='Validation Accuracy')\n",
    "plt.title('Training and Validation Accuracy')\n",
    "plt.xlabel('Epochs')\n",
    "plt.ylabel('Accuracy')\n",
    "plt.legend()\n",
    "plt.show()\n"
   ]
  },
  {
   "cell_type": "code",
   "execution_count": null,
   "id": "c36b2026-1707-4f5f-bd17-1796fac00d10",
   "metadata": {},
   "outputs": [],
   "source": []
  }
 ],
 "metadata": {
  "kernelspec": {
   "display_name": "Python 3 (ipykernel)",
   "language": "python",
   "name": "python3"
  },
  "language_info": {
   "codemirror_mode": {
    "name": "ipython",
    "version": 3
   },
   "file_extension": ".py",
   "mimetype": "text/x-python",
   "name": "python",
   "nbconvert_exporter": "python",
   "pygments_lexer": "ipython3",
   "version": "3.12.0"
  }
 },
 "nbformat": 4,
 "nbformat_minor": 5
}
